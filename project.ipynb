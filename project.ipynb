{
 "cells": [
  {
   "cell_type": "code",
   "execution_count": null,
   "metadata": {},
   "outputs": [],
   "source": [
    "import time\n",
    "import numpy as np\n",
    "import matplotlib.pyplot as plt\n",
    "import pandas as pd\n",
    "from tqdm import tqdm_notebook as tqdm\n",
    "from sklearn.model_selection import StratifiedKFold as KFold\n",
    "from sklearn.neighbors import KNeighborsClassifier\n",
    "from sklearn.preprocessing import normalize\n",
    "from sklearn.preprocessing import OneHotEncoder\n",
    "from sklearn import tree\n",
    "\n",
    "datasetList = ['abalone.data', 'balance-scale.data', 'transfusion.data']"
   ]
  },
  {
   "cell_type": "markdown",
   "metadata": {},
   "source": [
    "# Dataset\n",
    "### Balance"
   ]
  },
  {
   "cell_type": "code",
   "execution_count": null,
   "metadata": {},
   "outputs": [],
   "source": [
    "dtName      = 'data/' + datasetList[1]\n",
    "df          = pd.read_csv(dtName, header=None)\n",
    "X, y        = df.iloc[:,1:].values, df.iloc[:, 0].values\n",
    "X           = normalize(X)\n",
    "x_pd        = pd.DataFrame(X)\n",
    "corr_x      = np.corrcoef(X)\n",
    "\n",
    "print(df.head(5))\n",
    "print(corr_x)"
   ]
  },
  {
   "cell_type": "markdown",
   "metadata": {},
   "source": [
    "### Abalone"
   ]
  },
  {
   "cell_type": "code",
   "execution_count": null,
   "metadata": {},
   "outputs": [],
   "source": [
    "dtName      = 'data/' + datasetList[0]\n",
    "\n",
    "df          = pd.read_csv(dtName, header=None)\n",
    "X, y        = df.iloc[:,:-1].values, df.iloc[:, -1].values\n",
    "enc         = OneHotEncoder(handle_unknown='ignore')\n",
    "one_hot     = enc.fit_transform(X[:, 0, None])\n",
    "one_hot_arr = one_hot.toarray()\n",
    "X           = normalize(X[:, 1:])\n",
    "X           = np.concatenate((one_hot_arr, X), axis=1)\n",
    "corr_x      = np.corrcoef(X)\n",
    "print(corr_x)\n",
    "df.head()"
   ]
  },
  {
   "cell_type": "markdown",
   "metadata": {},
   "source": [
    "### Transfusion"
   ]
  },
  {
   "cell_type": "code",
   "execution_count": 101,
   "metadata": {},
   "outputs": [
    {
     "name": "stdout",
     "output_type": "stream",
     "text": [
      "[[1.         0.99999966 0.99999966 ... 0.99795436 0.98739345 0.94906298]\n",
      " [0.99999966 1.         0.99999998 ... 0.99799809 0.98743441 0.94914984]\n",
      " [0.99999966 0.99999998 1.         ... 0.99800393 0.9874638  0.94920777]\n",
      " ...\n",
      " [0.99795436 0.99799809 0.99800393 ... 1.         0.99329296 0.96313755]\n",
      " [0.98739345 0.98743441 0.9874638  ... 0.99329296 1.         0.98696177]\n",
      " [0.94906298 0.94914984 0.94920777 ... 0.96313755 0.98696177 1.        ]]\n"
     ]
    },
    {
     "data": {
      "text/html": [
       "<div>\n",
       "<style scoped>\n",
       "    .dataframe tbody tr th:only-of-type {\n",
       "        vertical-align: middle;\n",
       "    }\n",
       "\n",
       "    .dataframe tbody tr th {\n",
       "        vertical-align: top;\n",
       "    }\n",
       "\n",
       "    .dataframe thead th {\n",
       "        text-align: right;\n",
       "    }\n",
       "</style>\n",
       "<table border=\"1\" class=\"dataframe\">\n",
       "  <thead>\n",
       "    <tr style=\"text-align: right;\">\n",
       "      <th></th>\n",
       "      <th>Recency (months)</th>\n",
       "      <th>Frequency (times)</th>\n",
       "      <th>Monetary (c.c. blood)</th>\n",
       "      <th>Time (months)</th>\n",
       "      <th>whether he/she donated blood in March 2007</th>\n",
       "    </tr>\n",
       "  </thead>\n",
       "  <tbody>\n",
       "    <tr>\n",
       "      <th>0</th>\n",
       "      <td>2</td>\n",
       "      <td>50</td>\n",
       "      <td>12500</td>\n",
       "      <td>98</td>\n",
       "      <td>1</td>\n",
       "    </tr>\n",
       "    <tr>\n",
       "      <th>1</th>\n",
       "      <td>0</td>\n",
       "      <td>13</td>\n",
       "      <td>3250</td>\n",
       "      <td>28</td>\n",
       "      <td>1</td>\n",
       "    </tr>\n",
       "    <tr>\n",
       "      <th>2</th>\n",
       "      <td>1</td>\n",
       "      <td>16</td>\n",
       "      <td>4000</td>\n",
       "      <td>35</td>\n",
       "      <td>1</td>\n",
       "    </tr>\n",
       "    <tr>\n",
       "      <th>3</th>\n",
       "      <td>2</td>\n",
       "      <td>20</td>\n",
       "      <td>5000</td>\n",
       "      <td>45</td>\n",
       "      <td>1</td>\n",
       "    </tr>\n",
       "    <tr>\n",
       "      <th>4</th>\n",
       "      <td>1</td>\n",
       "      <td>24</td>\n",
       "      <td>6000</td>\n",
       "      <td>77</td>\n",
       "      <td>0</td>\n",
       "    </tr>\n",
       "  </tbody>\n",
       "</table>\n",
       "</div>"
      ],
      "text/plain": [
       "   Recency (months)  Frequency (times)  Monetary (c.c. blood)  Time (months)  \\\n",
       "0                 2                 50                  12500             98   \n",
       "1                 0                 13                   3250             28   \n",
       "2                 1                 16                   4000             35   \n",
       "3                 2                 20                   5000             45   \n",
       "4                 1                 24                   6000             77   \n",
       "\n",
       "   whether he/she donated blood in March 2007  \n",
       "0                                           1  \n",
       "1                                           1  \n",
       "2                                           1  \n",
       "3                                           1  \n",
       "4                                           0  "
      ]
     },
     "execution_count": 101,
     "metadata": {},
     "output_type": "execute_result"
    }
   ],
   "source": [
    "dtName      = 'data/' + datasetList[2]\n",
    "\n",
    "df          = pd.read_csv(dtName)\n",
    "X, y        = df.iloc[:,:-1].values, df.iloc[:, -1].values\n",
    "X           = normalize(X)\n",
    "corr_x      = np.corrcoef(X)\n",
    "print(corr_x)\n",
    "df.head()"
   ]
  },
  {
   "cell_type": "code",
   "execution_count": 122,
   "metadata": {},
   "outputs": [
    {
     "data": {
      "text/plain": [
       "401"
      ]
     },
     "execution_count": 122,
     "metadata": {},
     "output_type": "execute_result"
    }
   ],
   "source": [
    "(corr_x[:, 234] > 0.9999).sum()"
   ]
  },
  {
   "cell_type": "markdown",
   "metadata": {},
   "source": [
    "## Dataset division"
   ]
  },
  {
   "cell_type": "code",
   "execution_count": null,
   "metadata": {},
   "outputs": [],
   "source": [
    "n_splits   = 5\n",
    "k          = 10\n",
    "acc        = []\n",
    "train_time = []\n",
    "test_time  = []\n",
    "\n",
    "kf = KFold(n_splits=n_splits, random_state=42, shuffle=True)\n",
    "\n",
    "for train_index, test_index in (kf.split(X, y)):\n",
    "    X_train, X_test = X[train_index], X[test_index]\n",
    "    y_train, y_test = y[train_index], y[test_index]\n",
    "    neigh = KNeighborsClassifier(n_neighbors=k)\n",
    "    #neigh = KNN(K=k, ktype=ktype)\n",
    "\n",
    "    #Train\n",
    "    start_time = time.time()\n",
    "    neigh.fit(X_train, y_train)\n",
    "    train_time.append( time.time() - start_time )\n",
    "\n",
    "    #Test\n",
    "    start_time = time.time()\n",
    "    pred = neigh.predict(X_test)\n",
    "    test_time.append( time.time() - start_time )\n",
    "    \n",
    "    acc.append( (pred == y_test).sum() / pred.shape[0] )\n",
    "\n",
    "acc = np.array(acc)\n",
    "print(f\"Acc: {acc.mean()} +/- {acc.std()}\")"
   ]
  },
  {
   "cell_type": "markdown",
   "metadata": {},
   "source": [
    "## Tree"
   ]
  },
  {
   "cell_type": "code",
   "execution_count": null,
   "metadata": {},
   "outputs": [],
   "source": [
    "from sklearn.datasets import load_iris\n",
    "from sklearn import tree\n",
    "iris = load_iris()\n",
    "clf = tree.DecisionTreeClassifier()\n",
    "clf.fit(iris.data, iris.target)\n",
    "clf.apply(iris.data[[1,100, 100, 60]])\n",
    "#tree.plot_tree(clf.fit(iris.data, iris.target)) "
   ]
  }
 ],
 "metadata": {
  "kernelspec": {
   "display_name": "dl",
   "language": "python",
   "name": "dl"
  },
  "language_info": {
   "codemirror_mode": {
    "name": "ipython",
    "version": 3
   },
   "file_extension": ".py",
   "mimetype": "text/x-python",
   "name": "python",
   "nbconvert_exporter": "python",
   "pygments_lexer": "ipython3",
   "version": "3.6.7"
  }
 },
 "nbformat": 4,
 "nbformat_minor": 2
}
