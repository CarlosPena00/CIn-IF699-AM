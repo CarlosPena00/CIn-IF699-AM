{
 "cells": [
  {
   "cell_type": "code",
   "execution_count": 1,
   "metadata": {},
   "outputs": [],
   "source": [
    "import time\n",
    "import numpy as np\n",
    "import matplotlib.pyplot as plt\n",
    "import pandas as pd\n",
    "from tqdm import tqdm_notebook as tqdm\n",
    "from sklearn.model_selection import StratifiedKFold as KFold\n",
    "from sklearn.neighbors import KNeighborsClassifier\n",
    "from sklearn.preprocessing import normalize\n",
    "from sklearn.preprocessing import LabelEncoder\n",
    "from sklearn.preprocessing import OneHotEncoder\n",
    "from sklearn import tree\n",
    "from sklearn.datasets import load_iris\n",
    "from sklearn import datasets\n",
    "\n",
    "datasetList = ['abalone.data', 'balance-scale.data', 'transfusion.data', 'australian.dat', \n",
    "               'car.data','breast-cancer-wisconsin.data','pop_failures.dat','german.data']\n",
    "const_ks    = [1, 5, 10, 20]"
   ]
  },
  {
   "cell_type": "markdown",
   "metadata": {},
   "source": [
    "# Dataset"
   ]
  },
  {
   "cell_type": "markdown",
   "metadata": {},
   "source": [
    "### Abalone"
   ]
  },
  {
   "cell_type": "code",
   "execution_count": null,
   "metadata": {},
   "outputs": [],
   "source": [
    "dtName      = 'data/' + datasetList[0]\n",
    "dtLabel     = datasetList[0]\n",
    "\n",
    "df          = pd.read_csv(dtName, header=None)\n",
    "X, y        = df.iloc[:,:-1].values, df.iloc[:, -1].values\n",
    "enc         = OneHotEncoder(handle_unknown='ignore')\n",
    "one_hot     = enc.fit_transform(X[:, 0, None])\n",
    "one_hot_arr = one_hot.toarray()\n",
    "X           = normalize(X[:, 1:])\n",
    "X           = np.concatenate((one_hot_arr, X), axis=1)\n",
    "corr_x      = np.corrcoef(X)\n",
    "print(X.shape)\n",
    "print(corr_x)\n",
    "df.head()"
   ]
  },
  {
   "cell_type": "markdown",
   "metadata": {},
   "source": [
    "### Transfusion"
   ]
  },
  {
   "cell_type": "code",
   "execution_count": null,
   "metadata": {},
   "outputs": [],
   "source": [
    "dtName      = 'data/' + datasetList[2]\n",
    "dtLabel     = datasetList[2]\n",
    "\n",
    "df          = pd.read_csv(dtName)\n",
    "X, y        = df.iloc[:,:-1].values, df.iloc[:, -1].values\n",
    "X           = normalize(X)\n",
    "corr_x      = np.corrcoef(X)\n",
    "print(X.shape)\n",
    "print(corr_x)\n",
    "df.head()"
   ]
  },
  {
   "cell_type": "markdown",
   "metadata": {},
   "source": [
    "### Australian"
   ]
  },
  {
   "cell_type": "code",
   "execution_count": null,
   "metadata": {},
   "outputs": [],
   "source": [
    "dtName      = 'data/' + datasetList[3]\n",
    "dtLabel     = datasetList[3]\n",
    "\n",
    "df          = pd.read_csv(dtName, header=None,delim_whitespace=True)\n",
    "X, y        = df.iloc[:,:-1].values, df.iloc[:, -1].values\n",
    "enc         = OneHotEncoder(handle_unknown='ignore')\n",
    "one_hot     = enc.fit_transform(X[:, 0, None])\n",
    "one_hot_arr = one_hot.toarray()\n",
    "X           = normalize(X[:, 1:])\n",
    "X           = np.concatenate((one_hot_arr, X), axis=1)\n",
    "corr_x      = np.corrcoef(X)\n",
    "print(X.shape)\n",
    "print(corr_x)\n",
    "df.head()"
   ]
  },
  {
   "cell_type": "markdown",
   "metadata": {},
   "source": [
    "### Car"
   ]
  },
  {
   "cell_type": "code",
   "execution_count": null,
   "metadata": {},
   "outputs": [],
   "source": [
    "dtName      = 'data/' + datasetList[4]\n",
    "dtLabel     = datasetList[4]\n",
    "df          = pd.read_csv(dtName, header=None)\n",
    "number      = LabelEncoder()\n",
    "\n",
    "for i in range(len(df.columns)):\n",
    "    df[i]   = number.fit_transform(df[i].astype('str'))\n",
    "    \n",
    "X, y        = df.iloc[:,:-1].values, df.iloc[:, -1].values\n",
    "enc         = OneHotEncoder(handle_unknown='ignore')\n",
    "one_hot     = enc.fit_transform(X[:, 0, None])\n",
    "one_hot_arr = one_hot.toarray()\n",
    "X           = normalize(X[:, 1:])\n",
    "X           = np.concatenate((one_hot_arr, X), axis=1)\n",
    "corr_x      = np.corrcoef(X)\n",
    "print(X.shape)\n",
    "print(corr_x)\n",
    "df.head()"
   ]
  },
  {
   "cell_type": "markdown",
   "metadata": {},
   "source": [
    "### BreastOri"
   ]
  },
  {
   "cell_type": "code",
   "execution_count": null,
   "metadata": {},
   "outputs": [],
   "source": [
    "dtName      = 'data/' + datasetList[5]\n",
    "dtLabel     = datasetList[5]\n",
    "\n",
    "df          = pd.read_csv(dtName)\n",
    "X, y        = df.iloc[:,:-1].values, df.iloc[:, -1].values\n",
    "y           = y[ np.all(X != '?', axis = 1)]\n",
    "X           = X[ np.all(X != '?', axis = 1)].astype(np.float)\n",
    "X           = normalize(X)\n",
    "corr_x      = np.corrcoef(X)\n",
    "print(X.shape)\n",
    "print(corr_x)\n",
    "df.head()"
   ]
  },
  {
   "cell_type": "markdown",
   "metadata": {},
   "source": [
    "### Climate"
   ]
  },
  {
   "cell_type": "code",
   "execution_count": null,
   "metadata": {},
   "outputs": [],
   "source": [
    "dtName      = 'data/' + datasetList[6]\n",
    "dtLabel     = datasetList[6]\n",
    "\n",
    "df          = pd.read_csv(dtName,delim_whitespace=True)\n",
    "X, y        = df.iloc[:,:-1].values, df.iloc[:, -1].values\n",
    "X           = normalize(X)\n",
    "corr_x      = np.corrcoef(X)\n",
    "print(X.shape)\n",
    "print(corr_x)\n",
    "df.head()\n"
   ]
  },
  {
   "cell_type": "markdown",
   "metadata": {},
   "source": [
    "### German"
   ]
  },
  {
   "cell_type": "code",
   "execution_count": null,
   "metadata": {},
   "outputs": [],
   "source": [
    "dtName      = 'data/' + datasetList[7]\n",
    "dtLabel     = datasetList[7]\n",
    "\n",
    "df          = pd.read_csv(dtName, header=None,delim_whitespace=True)\n",
    "number      = LabelEncoder()\n",
    "\n",
    "for i in range(len(df.columns)):\n",
    "    df[i]   = number.fit_transform(df[i].astype('str'))\n",
    "    \n",
    "X, y        = df.iloc[:,:-1].values, df.iloc[:, -1].values\n",
    "enc         = OneHotEncoder(handle_unknown='ignore')\n",
    "one_hot     = enc.fit_transform(X[:, 0, None])\n",
    "one_hot_arr = one_hot.toarray()\n",
    "X           = normalize(X[:, 1:])\n",
    "X           = np.concatenate((one_hot_arr, X), axis=1)\n",
    "corr_x      = np.corrcoef(X)\n",
    "print(corr_x)\n",
    "df.head()"
   ]
  },
  {
   "cell_type": "markdown",
   "metadata": {},
   "source": [
    "### Wine"
   ]
  },
  {
   "cell_type": "code",
   "execution_count": null,
   "metadata": {},
   "outputs": [],
   "source": [
    "dtLabel  = \"wine\"\n",
    "dataset  = datasets.load_wine()\n",
    "X,y      = dataset.data, dataset.target\n",
    "X        = normalize(X)\n",
    "corr_x   = np.corrcoef(X)\n",
    "print(corr_x)"
   ]
  },
  {
   "cell_type": "markdown",
   "metadata": {},
   "source": [
    "### breast_cancer"
   ]
  },
  {
   "cell_type": "code",
   "execution_count": 2,
   "metadata": {},
   "outputs": [
    {
     "name": "stdout",
     "output_type": "stream",
     "text": [
      "[[1.         0.9892786  0.98703483 ... 0.97919942 0.98785229 0.97683484]\n",
      " [0.9892786  1.         0.999713   ... 0.99774113 0.99972889 0.98469916]\n",
      " [0.98703483 0.999713   1.         ... 0.99878867 0.99988251 0.98591229]\n",
      " ...\n",
      " [0.97919942 0.99774113 0.99878867 ... 1.         0.99875905 0.98800384]\n",
      " [0.98785229 0.99972889 0.99988251 ... 0.99875905 1.         0.98765632]\n",
      " [0.97683484 0.98469916 0.98591229 ... 0.98800384 0.98765632 1.        ]]\n"
     ]
    }
   ],
   "source": [
    "dtLabel  = \"breast_cancer\"\n",
    "dataset  = datasets.load_breast_cancer()\n",
    "X,y      = dataset.data, dataset.target\n",
    "X        = normalize(X)\n",
    "corr_x   = np.corrcoef(X)\n",
    "print(corr_x)"
   ]
  },
  {
   "cell_type": "markdown",
   "metadata": {},
   "source": [
    "## Iris"
   ]
  },
  {
   "cell_type": "code",
   "execution_count": null,
   "metadata": {},
   "outputs": [],
   "source": [
    "dtLabel  = \"iris\"\n",
    "iris   = load_iris()\n",
    "X,y    = iris.data, iris.target\n",
    "X      = normalize(X)\n",
    "corr_x = np.corrcoef(X)\n",
    "print(corr_x)"
   ]
  },
  {
   "cell_type": "markdown",
   "metadata": {},
   "source": [
    "# K*Tree"
   ]
  },
  {
   "cell_type": "code",
   "execution_count": 3,
   "metadata": {},
   "outputs": [],
   "source": [
    "def getKS(X_train, y_train):\n",
    "    feat = X_train.shape[1]\n",
    "    neigh = KNeighborsClassifier(1)\n",
    "    neigh.fit(X_train, y_train)\n",
    "    leafs = clf.apply(X_train)\n",
    "    k_values = clf.predict(X_train)\n",
    "\n",
    "    ktree_st = []\n",
    "    ktree_s  = []\n",
    "    for leaf in np.unique(leafs):\n",
    "        tree_node_k   = k_values[leafs==leaf][0]\n",
    "        tree_node_e   = X_train[leafs == leaf]\n",
    "        tree_node_e_y = y_train[leafs == leaf][:, None]\n",
    "        NN_idx  = neigh.kneighbors(tree_node_e, tree_node_k, return_distance=False)\n",
    "        NN      = X_train[NN_idx]\n",
    "        NN_y    = y_train[NN_idx]\n",
    "\n",
    "        NNN_idx = neigh.kneighbors(NN.reshape(-1, feat), 1, return_distance=False)\n",
    "        NNN     = X_train[NNN_idx][:,0]\n",
    "        NNN_y   = y_train[NNN_idx]\n",
    "        ktree_st.append((tree_node_k, tree_node_e, NN, NNN))\n",
    "\n",
    "        NN      = NN.reshape(-1, feat)\n",
    "        NN_y    = NN_y.reshape(-1, 1)\n",
    "\n",
    "        batch_x = np.concatenate((tree_node_e, NN, NNN))\n",
    "        batch_y = np.concatenate((tree_node_e_y, NN_y, NNN_y))\n",
    "        batch = np.concatenate((batch_x, batch_y),axis=1)\n",
    "        batch  = np.unique(batch, axis=0)\n",
    "        #if len(batch.shape) == 1:\n",
    "        #    batch = batch[:, None]\n",
    "            \n",
    "        ktree_s.append(batch)\n",
    "    return ktree_s, np.unique(leafs)\n",
    "    ## ktree_st[0][0] Valor de K do quadrante\n",
    "    ## ktree_st[0][1] Elementos do quadrante\n",
    "    ## ktree_st[0][2] NN dos elementos do quadrante\n",
    "    "
   ]
  },
  {
   "cell_type": "code",
   "execution_count": 7,
   "metadata": {},
   "outputs": [
    {
     "name": "stdout",
     "output_type": "stream",
     "text": [
      "breast_cancer\n",
      "K*Tree, 0.0000 +/- 0.0000, TH: 0.9999\n"
     ]
    }
   ],
   "source": [
    "print(dtLabel)\n",
    "clf = tree.DecisionTreeClassifier()\n",
    "n_splits   = 10\n",
    "\n",
    "\n",
    "acc        = []\n",
    "acurancias = []\n",
    "train_time = []\n",
    "test_time  = []\n",
    "kf = KFold(n_splits=n_splits, random_state=42, shuffle=True)\n",
    "th_value =  0.9999\n",
    "for train_index, test_index in (kf.split(X, y)):\n",
    "    X_train, X_test = X[train_index], X[test_index]\n",
    "    y_train, y_test = y[train_index], y[test_index]\n",
    "\n",
    "    start_time = time.time()\n",
    "    corr_x_train    = np.corrcoef(X_train)\n",
    "    corr_y_train    = ( corr_x_train > (corr_x_train.max() * th_value)).sum(axis=0)\n",
    "    clf.fit(X_train, corr_y_train)\n",
    "\n",
    "    \n",
    "    ktree_batch, leafs = getKS(X_train, y_train)\n",
    "    \n",
    "    corr_y_test     = clf.predict(X_test)\n",
    "    leaf_test       = clf.apply(X_test)\n",
    "    neigh = KNeighborsClassifier(n_neighbors=1)\n",
    "    sum_acc    = 0\n",
    "    \n",
    "    for idx, leaf in enumerate(leaf_test):\n",
    "        leaf_idx = (leaf == leafs).argmax()\n",
    "        X_train = ktree_batch[leaf_idx][:, :-1]\n",
    "        y_train = ktree_batch[leaf_idx][:, -1]\n",
    "        neigh.fit(X_train, y_train)\n",
    "        n_neighbors = min(corr_y_test[idx], len(X_train))\n",
    "        neigh.set_params(n_neighbors=n_neighbors)\n",
    "        \n",
    "        pred = neigh.predict(X_test[idx,None])\n",
    "        sum_acc += (pred == y_test[idx])\n",
    "    acc.append( sum_acc / len(corr_y_test))\n",
    "acc        = np.array(acc)\n",
    "\n",
    "print(f\"K*Tree, {acc.mean():0.4f} +/- {acc.std():0.4f}, TH: {th_value}\")\n"
   ]
  }
 ],
 "metadata": {
  "kernelspec": {
   "display_name": "dl",
   "language": "python",
   "name": "dl"
  },
  "language_info": {
   "codemirror_mode": {
    "name": "ipython",
    "version": 3
   },
   "file_extension": ".py",
   "mimetype": "text/x-python",
   "name": "python",
   "nbconvert_exporter": "python",
   "pygments_lexer": "ipython3",
   "version": "3.6.7"
  }
 },
 "nbformat": 4,
 "nbformat_minor": 2
}
